{
 "cells": [
  {
   "cell_type": "code",
   "execution_count": 1,
   "id": "b3407ed3",
   "metadata": {},
   "outputs": [],
   "source": [
    "import pandas as pd\n",
    "\n",
    "def deasciify_sentence(sentence):\n",
    "    asciify_map = {\n",
    "        'a': 'a', 'A': 'A', 'b': 'b', 'B': 'B', 'c': 'c', 'C': 'C', 'ç': 'c', 'Ç': 'C', 'd': 'd', 'D': 'D', 'e': 'e', 'E': 'E', 'f': 'f', 'F': 'F', 'g': 'g', 'G': 'G',\n",
    "        'ğ': 'g', 'Ğ': 'G', 'h': 'h', 'H': 'H', 'ı': 'i', 'I': 'I', 'i': 'i', 'İ': 'I', 'j': 'j', 'J': 'J', 'k': 'k', 'K': 'K', 'l': 'l', 'L': 'L', 'm': 'm', 'M': 'M',\n",
    "        'n': 'n', 'N': 'N', 'o': 'o', 'O': 'O', 'ö': 'o', 'Ö': 'O', 'p': 'p', 'P': 'P', 'r': 'r', 'R': 'R', 's': 's', 'S': 'S', 'ş': 's', 'Ş': 'S', 't': 't', 'T': 'T',\n",
    "        'u': 'u', 'U': 'U', 'ü': 'u', 'Ü': 'U', 'v': 'v', 'V': 'V', 'y': 'y', 'Y': 'Y', 'z': 'z', 'Z': 'Z'\n",
    "    }\n",
    "\n",
    "\n",
    "    deasciified_sentence = ''\n",
    "    for char in sentence:\n",
    "        if char in asciify_map:\n",
    "            deasciified_sentence += asciify_map[char]\n",
    "        else:\n",
    "            deasciified_sentence += char\n",
    "    return deasciified_sentence\n",
    "\n",
    "# Read the CSV file\n",
    "df = pd.read_csv('train.csv')\n",
    "\n",
    "# Apply deasciification to the 'sentence' column\n",
    "df['Sentence'] = df['Sentence'].apply(deasciify_sentence)\n",
    "\n",
    "# Save the updated data to a new CSV file\n",
    "df.to_csv('deasciified.csv', index=False)\n"
   ]
  },
  {
   "cell_type": "code",
   "execution_count": null,
   "id": "f5f115a8",
   "metadata": {},
   "outputs": [],
   "source": []
  }
 ],
 "metadata": {
  "kernelspec": {
   "display_name": "Python 3 (ipykernel)",
   "language": "python",
   "name": "python3"
  },
  "language_info": {
   "codemirror_mode": {
    "name": "ipython",
    "version": 3
   },
   "file_extension": ".py",
   "mimetype": "text/x-python",
   "name": "python",
   "nbconvert_exporter": "python",
   "pygments_lexer": "ipython3",
   "version": "3.9.12"
  }
 },
 "nbformat": 4,
 "nbformat_minor": 5
}
